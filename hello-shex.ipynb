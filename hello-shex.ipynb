{
 "cells": [
  {
   "cell_type": "code",
   "execution_count": 1,
   "metadata": {},
   "outputs": [
    {
     "data": {
      "text/plain": [
       "undefined"
      ]
     },
     "execution_count": 1,
     "metadata": {},
     "output_type": "execute_result"
    }
   ],
   "source": [
    "var shex = require('shex')"
   ]
  },
  {
   "cell_type": "code",
   "execution_count": 2,
   "metadata": {},
   "outputs": [
    {
     "data": {
      "text/plain": [
       "Promise { _40: 0, _65: 0, _55: null, _72: null }"
      ]
     },
     "execution_count": 2,
     "metadata": {},
     "output_type": "execute_result"
    },
    {
     "name": "stderr",
     "output_type": "stream",
     "text": [
      "error:Error: error parsing ShEx https://github.com/shexSpec/schemas/raw/master/Wikidata/pathways/Wikipathways/wikipathways.shex: Error: https://github.com/shexSpec/schemas/raw/master/Wikidata/pathways/Wikipathways/wikipathways.shex(29): Parse error on line 29:\n",
      "...tifiers    p:P2410 @<wikipathway-identi\n",
      "----------------------^\n",
      "Expecting 'IT_OR', 'IT_AND', ')', '}', '|', ',', ';', '*', '+', '?', 'REPEAT_RANGE', '//', '%', got '@'\n",
      "...tifiers    p:P2410 @<wikipathway-identi\n",
      "----------------------^\n"
     ]
    }
   ],
   "source": [
    "shex.Loader.load(\n",
    "    [\"https://github.com/shexSpec/schemas/raw/master/Wikidata/pathways/Wikipathways/wikipathways.shex\"],\n",
    "    [],\n",
    "    [\"https://www.wikidata.org/wiki/Special:EntityData/Q28869882.ttl\"],\n",
    "    []\n",
    ").then(loaded => {\n",
    "    var v = shex.Validator.construct(loaded.schema);\n",
    "    console.log(\n",
    "//        loaded.schema,\n",
    "//        loaded.data.find(),\n",
    "        v.validate(loaded.data, 'https://www.wikidata.org/wiki/Special:EntityData/Q28869882')\n",
    "    );\n",
    "}).catch(e => {\n",
    "    console.error(\"error:\" + e)\n",
    "})"
   ]
  },
  {
   "cell_type": "code",
   "execution_count": null,
   "metadata": {},
   "outputs": [],
   "source": []
  }
 ],
 "metadata": {
  "kernelspec": {
   "display_name": "Javascript (Node.js)",
   "language": "javascript",
   "name": "javascript"
  },
  "language_info": {
   "file_extension": ".js",
   "mimetype": "application/javascript",
   "name": "javascript",
   "version": "6.10.0"
  }
 },
 "nbformat": 4,
 "nbformat_minor": 2
}
